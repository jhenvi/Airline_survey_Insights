{
 "cells": [
  {
   "cell_type": "markdown",
   "metadata": {},
   "source": [
    "# Customer Satisfaction Airline Survey, Analysis and Prediction\n",
    "\n",
    "This notebook is to showcase: \n",
    "- Basics of data science (data cleaning, encoding, feature engineering, and model training)\n",
    "- Predicting Customer Satisfaction based on the customer satisfaction survey, with customer feedback on their experience with the airline\n",
    "Data Source:\n",
    "others:Kaggle\n",
    "https://seaborn.pydata.org/index.html#\n"
   ]
  },
  {
   "cell_type": "markdown",
   "metadata": {},
   "source": [
    "### 1. Import data files, pandas, matplotlib, seaborn, numpy, spicy & Skelearn"
   ]
  },
  {
   "cell_type": "code",
   "execution_count": 41,
   "metadata": {},
   "outputs": [
    {
     "name": "stdout",
     "output_type": "stream",
     "text": [
      "Modules are imported.\n"
     ]
    }
   ],
   "source": [
    "%matplotlib inline\n",
    "import matplotlib.pyplot as plt\n",
    "import pandas as pd\n",
    "import numpy as np\n",
    "import matplotlib.pyplot as plt\n",
    "import seaborn as sns\n",
    "from pandas import Series, DataFrame\n",
    "from pylab import *\n",
    "import statsmodels.api as sm\n",
    "from matplotlib.ticker import MaxNLocator\n",
    "from scipy import stats\n",
    "import math\n",
    "%matplotlib inline\n",
    "from sklearn.preprocessing import StandardScaler\n",
    "from sklearn.ensemble import RandomForestRegressor\n",
    "from sklearn.metrics import mean_absolute_error\n",
    "from sklearn.model_selection import train_test_split\n",
    "print('Modules are imported.')"
   ]
  },
  {
   "cell_type": "code",
   "execution_count": 2,
   "metadata": {},
   "outputs": [],
   "source": [
    "# Import csv files\n",
    "import warnings\n",
    "warnings.filterwarnings('ignore')\n",
    "plt.style.use('fivethirtyeight')\n",
    "# File to Load, Source: Kaggle\n",
    "test = \"Resources/test.csv\"\n",
    "train =\"Resources/train.csv\""
   ]
  },
  {
   "cell_type": "code",
   "execution_count": 3,
   "metadata": {},
   "outputs": [
    {
     "data": {
      "text/html": [
       "<div>\n",
       "<style scoped>\n",
       "    .dataframe tbody tr th:only-of-type {\n",
       "        vertical-align: middle;\n",
       "    }\n",
       "\n",
       "    .dataframe tbody tr th {\n",
       "        vertical-align: top;\n",
       "    }\n",
       "\n",
       "    .dataframe thead th {\n",
       "        text-align: right;\n",
       "    }\n",
       "</style>\n",
       "<table border=\"1\" class=\"dataframe\">\n",
       "  <thead>\n",
       "    <tr style=\"text-align: right;\">\n",
       "      <th></th>\n",
       "      <th>Unnamed: 0</th>\n",
       "      <th>id</th>\n",
       "      <th>Gender</th>\n",
       "      <th>Customer Type</th>\n",
       "      <th>Age</th>\n",
       "      <th>Type of Travel</th>\n",
       "      <th>Class</th>\n",
       "      <th>Flight Distance</th>\n",
       "      <th>Inflight wifi service</th>\n",
       "      <th>Departure/Arrival time convenient</th>\n",
       "      <th>...</th>\n",
       "      <th>Inflight entertainment</th>\n",
       "      <th>On-board service</th>\n",
       "      <th>Leg room service</th>\n",
       "      <th>Baggage handling</th>\n",
       "      <th>Checkin service</th>\n",
       "      <th>Inflight service</th>\n",
       "      <th>Cleanliness</th>\n",
       "      <th>Departure Delay in Minutes</th>\n",
       "      <th>Arrival Delay in Minutes</th>\n",
       "      <th>satisfaction</th>\n",
       "    </tr>\n",
       "  </thead>\n",
       "  <tbody>\n",
       "    <tr>\n",
       "      <th>0</th>\n",
       "      <td>0</td>\n",
       "      <td>19556</td>\n",
       "      <td>Female</td>\n",
       "      <td>Loyal Customer</td>\n",
       "      <td>52</td>\n",
       "      <td>Business travel</td>\n",
       "      <td>Eco</td>\n",
       "      <td>160</td>\n",
       "      <td>5</td>\n",
       "      <td>4</td>\n",
       "      <td>...</td>\n",
       "      <td>5</td>\n",
       "      <td>5</td>\n",
       "      <td>5</td>\n",
       "      <td>5</td>\n",
       "      <td>2</td>\n",
       "      <td>5</td>\n",
       "      <td>5</td>\n",
       "      <td>50</td>\n",
       "      <td>44.0</td>\n",
       "      <td>satisfied</td>\n",
       "    </tr>\n",
       "    <tr>\n",
       "      <th>1</th>\n",
       "      <td>1</td>\n",
       "      <td>90035</td>\n",
       "      <td>Female</td>\n",
       "      <td>Loyal Customer</td>\n",
       "      <td>36</td>\n",
       "      <td>Business travel</td>\n",
       "      <td>Business</td>\n",
       "      <td>2863</td>\n",
       "      <td>1</td>\n",
       "      <td>1</td>\n",
       "      <td>...</td>\n",
       "      <td>4</td>\n",
       "      <td>4</td>\n",
       "      <td>4</td>\n",
       "      <td>4</td>\n",
       "      <td>3</td>\n",
       "      <td>4</td>\n",
       "      <td>5</td>\n",
       "      <td>0</td>\n",
       "      <td>0.0</td>\n",
       "      <td>satisfied</td>\n",
       "    </tr>\n",
       "    <tr>\n",
       "      <th>2</th>\n",
       "      <td>2</td>\n",
       "      <td>12360</td>\n",
       "      <td>Male</td>\n",
       "      <td>disloyal Customer</td>\n",
       "      <td>20</td>\n",
       "      <td>Business travel</td>\n",
       "      <td>Eco</td>\n",
       "      <td>192</td>\n",
       "      <td>2</td>\n",
       "      <td>0</td>\n",
       "      <td>...</td>\n",
       "      <td>2</td>\n",
       "      <td>4</td>\n",
       "      <td>1</td>\n",
       "      <td>3</td>\n",
       "      <td>2</td>\n",
       "      <td>2</td>\n",
       "      <td>2</td>\n",
       "      <td>0</td>\n",
       "      <td>0.0</td>\n",
       "      <td>neutral or dissatisfied</td>\n",
       "    </tr>\n",
       "  </tbody>\n",
       "</table>\n",
       "<p>3 rows × 25 columns</p>\n",
       "</div>"
      ],
      "text/plain": [
       "   Unnamed: 0     id  Gender      Customer Type  Age   Type of Travel  \\\n",
       "0           0  19556  Female     Loyal Customer   52  Business travel   \n",
       "1           1  90035  Female     Loyal Customer   36  Business travel   \n",
       "2           2  12360    Male  disloyal Customer   20  Business travel   \n",
       "\n",
       "      Class  Flight Distance  Inflight wifi service  \\\n",
       "0       Eco              160                      5   \n",
       "1  Business             2863                      1   \n",
       "2       Eco              192                      2   \n",
       "\n",
       "   Departure/Arrival time convenient  ...  Inflight entertainment  \\\n",
       "0                                  4  ...                       5   \n",
       "1                                  1  ...                       4   \n",
       "2                                  0  ...                       2   \n",
       "\n",
       "   On-board service  Leg room service  Baggage handling  Checkin service  \\\n",
       "0                 5                 5                 5                2   \n",
       "1                 4                 4                 4                3   \n",
       "2                 4                 1                 3                2   \n",
       "\n",
       "   Inflight service  Cleanliness  Departure Delay in Minutes  \\\n",
       "0                 5            5                          50   \n",
       "1                 4            5                           0   \n",
       "2                 2            2                           0   \n",
       "\n",
       "   Arrival Delay in Minutes             satisfaction  \n",
       "0                      44.0                satisfied  \n",
       "1                       0.0                satisfied  \n",
       "2                       0.0  neutral or dissatisfied  \n",
       "\n",
       "[3 rows x 25 columns]"
      ]
     },
     "execution_count": 3,
     "metadata": {},
     "output_type": "execute_result"
    }
   ],
   "source": [
    "# read csv file\n",
    "testdf = pd.read_csv(test)\n",
    "testdf.head(3)"
   ]
  },
  {
   "cell_type": "code",
   "execution_count": 4,
   "metadata": {},
   "outputs": [
    {
     "data": {
      "text/html": [
       "<div>\n",
       "<style scoped>\n",
       "    .dataframe tbody tr th:only-of-type {\n",
       "        vertical-align: middle;\n",
       "    }\n",
       "\n",
       "    .dataframe tbody tr th {\n",
       "        vertical-align: top;\n",
       "    }\n",
       "\n",
       "    .dataframe thead th {\n",
       "        text-align: right;\n",
       "    }\n",
       "</style>\n",
       "<table border=\"1\" class=\"dataframe\">\n",
       "  <thead>\n",
       "    <tr style=\"text-align: right;\">\n",
       "      <th></th>\n",
       "      <th>Unnamed: 0</th>\n",
       "      <th>id</th>\n",
       "      <th>Gender</th>\n",
       "      <th>Customer Type</th>\n",
       "      <th>Age</th>\n",
       "      <th>Type of Travel</th>\n",
       "      <th>Class</th>\n",
       "      <th>Flight Distance</th>\n",
       "      <th>Inflight wifi service</th>\n",
       "      <th>Departure/Arrival time convenient</th>\n",
       "      <th>...</th>\n",
       "      <th>Inflight entertainment</th>\n",
       "      <th>On-board service</th>\n",
       "      <th>Leg room service</th>\n",
       "      <th>Baggage handling</th>\n",
       "      <th>Checkin service</th>\n",
       "      <th>Inflight service</th>\n",
       "      <th>Cleanliness</th>\n",
       "      <th>Departure Delay in Minutes</th>\n",
       "      <th>Arrival Delay in Minutes</th>\n",
       "      <th>satisfaction</th>\n",
       "    </tr>\n",
       "  </thead>\n",
       "  <tbody>\n",
       "    <tr>\n",
       "      <th>0</th>\n",
       "      <td>0</td>\n",
       "      <td>70172</td>\n",
       "      <td>Male</td>\n",
       "      <td>Loyal Customer</td>\n",
       "      <td>13</td>\n",
       "      <td>Personal Travel</td>\n",
       "      <td>Eco Plus</td>\n",
       "      <td>460</td>\n",
       "      <td>3</td>\n",
       "      <td>4</td>\n",
       "      <td>...</td>\n",
       "      <td>5</td>\n",
       "      <td>4</td>\n",
       "      <td>3</td>\n",
       "      <td>4</td>\n",
       "      <td>4</td>\n",
       "      <td>5</td>\n",
       "      <td>5</td>\n",
       "      <td>25</td>\n",
       "      <td>18.0</td>\n",
       "      <td>neutral or dissatisfied</td>\n",
       "    </tr>\n",
       "    <tr>\n",
       "      <th>1</th>\n",
       "      <td>1</td>\n",
       "      <td>5047</td>\n",
       "      <td>Male</td>\n",
       "      <td>disloyal Customer</td>\n",
       "      <td>25</td>\n",
       "      <td>Business travel</td>\n",
       "      <td>Business</td>\n",
       "      <td>235</td>\n",
       "      <td>3</td>\n",
       "      <td>2</td>\n",
       "      <td>...</td>\n",
       "      <td>1</td>\n",
       "      <td>1</td>\n",
       "      <td>5</td>\n",
       "      <td>3</td>\n",
       "      <td>1</td>\n",
       "      <td>4</td>\n",
       "      <td>1</td>\n",
       "      <td>1</td>\n",
       "      <td>6.0</td>\n",
       "      <td>neutral or dissatisfied</td>\n",
       "    </tr>\n",
       "    <tr>\n",
       "      <th>2</th>\n",
       "      <td>2</td>\n",
       "      <td>110028</td>\n",
       "      <td>Female</td>\n",
       "      <td>Loyal Customer</td>\n",
       "      <td>26</td>\n",
       "      <td>Business travel</td>\n",
       "      <td>Business</td>\n",
       "      <td>1142</td>\n",
       "      <td>2</td>\n",
       "      <td>2</td>\n",
       "      <td>...</td>\n",
       "      <td>5</td>\n",
       "      <td>4</td>\n",
       "      <td>3</td>\n",
       "      <td>4</td>\n",
       "      <td>4</td>\n",
       "      <td>4</td>\n",
       "      <td>5</td>\n",
       "      <td>0</td>\n",
       "      <td>0.0</td>\n",
       "      <td>satisfied</td>\n",
       "    </tr>\n",
       "  </tbody>\n",
       "</table>\n",
       "<p>3 rows × 25 columns</p>\n",
       "</div>"
      ],
      "text/plain": [
       "   Unnamed: 0      id  Gender      Customer Type  Age   Type of Travel  \\\n",
       "0           0   70172    Male     Loyal Customer   13  Personal Travel   \n",
       "1           1    5047    Male  disloyal Customer   25  Business travel   \n",
       "2           2  110028  Female     Loyal Customer   26  Business travel   \n",
       "\n",
       "      Class  Flight Distance  Inflight wifi service  \\\n",
       "0  Eco Plus              460                      3   \n",
       "1  Business              235                      3   \n",
       "2  Business             1142                      2   \n",
       "\n",
       "   Departure/Arrival time convenient  ...  Inflight entertainment  \\\n",
       "0                                  4  ...                       5   \n",
       "1                                  2  ...                       1   \n",
       "2                                  2  ...                       5   \n",
       "\n",
       "   On-board service  Leg room service  Baggage handling  Checkin service  \\\n",
       "0                 4                 3                 4                4   \n",
       "1                 1                 5                 3                1   \n",
       "2                 4                 3                 4                4   \n",
       "\n",
       "   Inflight service  Cleanliness  Departure Delay in Minutes  \\\n",
       "0                 5            5                          25   \n",
       "1                 4            1                           1   \n",
       "2                 4            5                           0   \n",
       "\n",
       "   Arrival Delay in Minutes             satisfaction  \n",
       "0                      18.0  neutral or dissatisfied  \n",
       "1                       6.0  neutral or dissatisfied  \n",
       "2                       0.0                satisfied  \n",
       "\n",
       "[3 rows x 25 columns]"
      ]
     },
     "execution_count": 4,
     "metadata": {},
     "output_type": "execute_result"
    }
   ],
   "source": [
    "# read csv file\n",
    "traindf = pd.read_csv(train)\n",
    "traindf.head(3)"
   ]
  },
  {
   "cell_type": "markdown",
   "metadata": {},
   "source": [
    "### 2. Clean and transform dataset Survey Results"
   ]
  },
  {
   "cell_type": "code",
   "execution_count": 5,
   "metadata": {},
   "outputs": [
    {
     "data": {
      "text/plain": [
       "(103904, 25)"
      ]
     },
     "execution_count": 5,
     "metadata": {},
     "output_type": "execute_result"
    }
   ],
   "source": [
    "#testpd.shape\n",
    "traindf.shape"
   ]
  },
  {
   "cell_type": "code",
   "execution_count": 6,
   "metadata": {},
   "outputs": [],
   "source": [
    "# Drop unnecessary columns\n",
    "traindf = traindf.drop('Unnamed: 0', axis=1)\n",
    "traindf = traindf.drop('id', axis=1)"
   ]
  },
  {
   "cell_type": "code",
   "execution_count": 7,
   "metadata": {},
   "outputs": [],
   "source": [
    "#traindf.info()"
   ]
  },
  {
   "cell_type": "code",
   "execution_count": 8,
   "metadata": {},
   "outputs": [],
   "source": [
    "# Drop unnecessary columns\n",
    "testdf = testdf.drop('Unnamed: 0', axis=1)\n",
    "testdf = testdf.drop('id', axis=1)"
   ]
  },
  {
   "cell_type": "code",
   "execution_count": 9,
   "metadata": {},
   "outputs": [],
   "source": [
    "#testdf.info()"
   ]
  },
  {
   "cell_type": "code",
   "execution_count": 10,
   "metadata": {},
   "outputs": [],
   "source": [
    "# Replace spaces in the column names with underscore\n",
    "traindf.columns = [c.replace(' ', '_') for c in traindf.columns]\n",
    "testdf.columns = [c.replace(' ', '_') for c in testdf.columns]"
   ]
  },
  {
   "cell_type": "code",
   "execution_count": 11,
   "metadata": {},
   "outputs": [],
   "source": [
    "traindf['satisfaction'].replace({'neutral or dissatisfied': 0, 'satisfied': 1},inplace = True)\n",
    "testdf['satisfaction'].replace({'neutral or dissatisfied': 0, 'satisfied': 1},inplace = True)"
   ]
  },
  {
   "cell_type": "code",
   "execution_count": 35,
   "metadata": {},
   "outputs": [
    {
     "data": {
      "image/png": "[encoded data removed]",
      "text/plain": [
       "<Figure size 576x360 with 1 Axes>"
      ]
     },
     "metadata": {
      "needs_background": "light"
     },
     "output_type": "display_data"
    }
   ],
   "source": [
    "# Confirm satisfaction values changes\n",
    "fig = plt.figure(figsize = (8,5))\n",
    "traindf.satisfaction.value_counts(normalize = True).plot(kind='bar', color= ['gray','steelblue'], alpha = 0.9, rot=0)\n",
    "plt.title('Satisfaction Indicator (0) and (1) in the Dataset')\n",
    "plt.show()\n",
    "\n"
   ]
  },
  {
   "cell_type": "markdown",
   "metadata": {},
   "source": [
    "The plot shows a distribution of around 55%:45% between neutral/dissatisfied passengers and satisfied passengers respectively. So the data is quite balanced and it does not require any special treatment/resampling."
   ]
  },
  {
   "cell_type": "code",
   "execution_count": 13,
   "metadata": {},
   "outputs": [
    {
     "data": {
      "text/html": [
       "<div>\n",
       "<style scoped>\n",
       "    .dataframe tbody tr th:only-of-type {\n",
       "        vertical-align: middle;\n",
       "    }\n",
       "\n",
       "    .dataframe tbody tr th {\n",
       "        vertical-align: top;\n",
       "    }\n",
       "\n",
       "    .dataframe thead th {\n",
       "        text-align: right;\n",
       "    }\n",
       "</style>\n",
       "<table border=\"1\" class=\"dataframe\">\n",
       "  <thead>\n",
       "    <tr style=\"text-align: right;\">\n",
       "      <th></th>\n",
       "      <th>Total</th>\n",
       "      <th>Percent</th>\n",
       "    </tr>\n",
       "  </thead>\n",
       "  <tbody>\n",
       "    <tr>\n",
       "      <th>Arrival_Delay_in_Minutes</th>\n",
       "      <td>310</td>\n",
       "      <td>0.002984</td>\n",
       "    </tr>\n",
       "    <tr>\n",
       "      <th>satisfaction</th>\n",
       "      <td>0</td>\n",
       "      <td>0.000000</td>\n",
       "    </tr>\n",
       "    <tr>\n",
       "      <th>Food_and_drink</th>\n",
       "      <td>0</td>\n",
       "      <td>0.000000</td>\n",
       "    </tr>\n",
       "    <tr>\n",
       "      <th>Customer_Type</th>\n",
       "      <td>0</td>\n",
       "      <td>0.000000</td>\n",
       "    </tr>\n",
       "    <tr>\n",
       "      <th>Age</th>\n",
       "      <td>0</td>\n",
       "      <td>0.000000</td>\n",
       "    </tr>\n",
       "  </tbody>\n",
       "</table>\n",
       "</div>"
      ],
      "text/plain": [
       "                          Total   Percent\n",
       "Arrival_Delay_in_Minutes    310  0.002984\n",
       "satisfaction                  0  0.000000\n",
       "Food_and_drink                0  0.000000\n",
       "Customer_Type                 0  0.000000\n",
       "Age                           0  0.000000"
      ]
     },
     "execution_count": 13,
     "metadata": {},
     "output_type": "execute_result"
    }
   ],
   "source": [
    "# Missing data\n",
    "total = traindf.isnull().sum().sort_values(ascending=False)\n",
    "percent = (traindf.isnull().sum()/traindf.isnull().count()).sort_values(ascending=False)\n",
    "missing = pd.concat([total, percent], axis=1, keys=['Total', 'Percent'])\n",
    "missing.head()"
   ]
  },
  {
   "cell_type": "code",
   "execution_count": 14,
   "metadata": {},
   "outputs": [],
   "source": [
    "# Imputing missing value with mean\n",
    "traindf['Arrival_Delay_in_Minutes'] = traindf['Arrival_Delay_in_Minutes'].fillna(traindf['Arrival_Delay_in_Minutes'].mean())\n",
    "testdf['Arrival_Delay_in_Minutes'] = testdf['Arrival_Delay_in_Minutes'].fillna(testdf['Arrival_Delay_in_Minutes'].mean())"
   ]
  },
  {
   "cell_type": "code",
   "execution_count": 15,
   "metadata": {},
   "outputs": [
    {
     "data": {
      "text/plain": [
       "Index(['Gender', 'Customer_Type', 'Type_of_Travel', 'Class'], dtype='object')"
      ]
     },
     "execution_count": 15,
     "metadata": {},
     "output_type": "execute_result"
    }
   ],
   "source": [
    "# Check the list of categorical variables in dataset\n",
    "traindf.select_dtypes(include=['object']).columns"
   ]
  },
  {
   "cell_type": "code",
   "execution_count": 16,
   "metadata": {},
   "outputs": [],
   "source": [
    "# Replace NaN with mode for categorical variables\n",
    "traindf['Gender'] = traindf['Gender'].fillna(traindf['Gender'].mode()[0])\n",
    "traindf['Customer_Type'] = traindf['Customer_Type'].fillna(traindf['Customer_Type'].mode()[0])\n",
    "traindf['Type_of_Travel'] = traindf['Type_of_Travel'].fillna(traindf['Type_of_Travel'].mode()[0])\n",
    "traindf['Class'] = traindf['Class'].fillna(traindf['Class'].mode()[0])"
   ]
  },
  {
   "cell_type": "code",
   "execution_count": 17,
   "metadata": {},
   "outputs": [],
   "source": [
    "testdf['Gender'] = testdf['Gender'].fillna(testdf['Gender'].mode()[0])\n",
    "testdf['Customer_Type'] = testdf['Customer_Type'].fillna(testdf['Customer_Type'].mode()[0])\n",
    "testdf['Type_of_Travel'] = testdf['Type_of_Travel'].fillna(testdf['Type_of_Travel'].mode()[0])\n",
    "testdf['Class'] = testdf['Class'].fillna(testdf['Class'].mode()[0])"
   ]
  },
  {
   "cell_type": "markdown",
   "metadata": {},
   "source": [
    "### 3.Survey Results of survey customer satisfaction responses"
   ]
  },
  {
   "cell_type": "code",
   "execution_count": 61,
   "metadata": {},
   "outputs": [
    {
     "data": {
      "image/png": "[encoded data removed]",
      "text/plain": [
       "<Figure size 360x180 with 2 Axes>"
      ]
     },
     "metadata": {},
     "output_type": "display_data"
    },
    {
     "data": {
      "image/png": "[encoded data removed]",
      "text/plain": [
       "<Figure size 360x180 with 2 Axes>"
      ]
     },
     "metadata": {},
     "output_type": "display_data"
    }
   ],
   "source": [
    "# seaborn graph satifaction info\n",
    "\n",
    "with sns.axes_style(style='whitegrid'):\n",
    "    g = sns.catplot(\"satisfaction\", col=\"Gender\", col_wrap=2, data=traindf, kind=\"count\", height=2.5, aspect=1.0)  \n",
    "    g = sns.catplot(\"satisfaction\", col=\"Customer_Type\", col_wrap=2, data=traindf, kind=\"count\", height=2.5, aspect=1.0)\n",
    "    g.set_xlabels(fontsize=10)\n",
    "    g.set_ylabels(fontsize=10)\n",
    "    \n",
    "    g.despine(left=True)\n",
    "  "
   ]
  },
  {
   "cell_type": "code",
   "execution_count": 59,
   "metadata": {},
   "outputs": [
    {
     "data": {
      "image/png": "[encoded data removed]",
      "text/plain": [
       "<Figure size 432x288 with 1 Axes>"
      ]
     },
     "metadata": {
      "needs_background": "light"
     },
     "output_type": "display_data"
    }
   ],
   "source": [
    "ax = sns.countplot(x=\"Gender\", hue=\"satisfaction\", data=traindf)"
   ]
  },
  {
   "cell_type": "code",
   "execution_count": 66,
   "metadata": {},
   "outputs": [
    {
     "data": {
      "image/png": "[encoded data removed]",
      "text/plain": [
       "<Figure size 475.825x288 with 2 Axes>"
      ]
     },
     "metadata": {
      "needs_background": "light"
     },
     "output_type": "display_data"
    }
   ],
   "source": [
    "g = sns.catplot(x=\"satisfaction\", hue=\"Gender\", col=\"Customer_Type\", data=traindf, kind=\"count\",\n",
    "                height=4, aspect=.7)"
   ]
  },
  {
   "cell_type": "markdown",
   "metadata": {},
   "source": [
    "###### Gender Analysis Survey Results\n",
    "The analysis hows gender-wise distribution of dissatisfied and satisfied customers are quite the same. \n",
    "For both male and female passengers, the number of dissatisfied customers is not higher than the satisfied customers.\n",
    "###### Customer Type Analysis Survey Results\n",
    "The number of loyal customers is higher than the non-loyal. \n",
    "Among loyal passengers, the ratio of satisfied and dissatidfied ones is 49:51."
   ]
  },
  {
   "cell_type": "code",
   "execution_count": 70,
   "metadata": {},
   "outputs": [
    {
     "data": {
      "image/png": "[encoded data removed]",
      "text/plain": [
       "<Figure size 1147.88x360 with 1 Axes>"
      ]
     },
     "metadata": {},
     "output_type": "display_data"
    }
   ],
   "source": [
    "with sns.axes_style('whitegrid'):\n",
    "    g = sns.catplot(\"Age\", data=traindf, aspect=3.0, kind='count', hue='satisfaction', order=range(5, 80))\n",
    "    g.set_ylabels('Age vs Passenger Satisfaction', fontsize=15)\n",
    "    g.set_xlabels(fontsize=0.5)"
   ]
  },
  {
   "cell_type": "markdown",
   "metadata": {},
   "source": [
    "###### Age Analysis Survey Results\n",
    "From age 7-38 and from age 61-79 ranges, quotient of dissatisfied passengers is higher compared to satisfied passengers. \n",
    "In age 39-60 range, quotient of satisfied passengers is higher compared to dissatisfied passengers."
   ]
  },
  {
   "cell_type": "code",
   "execution_count": 71,
   "metadata": {},
   "outputs": [
    {
     "data": {
      "image/png": "[encoded data removed]",
      "text/plain": [
       "<Figure size 845.475x324 with 3 Axes>"
      ]
     },
     "metadata": {},
     "output_type": "display_data"
    }
   ],
   "source": [
    "with sns.axes_style('whitegrid'):\n",
    "    g = sns.catplot(x=\"Flight_Distance\", y=\"Type_of_Travel\", hue=\"satisfaction\", col=\"Class\", data=traindf, kind=\"bar\", height=4.5, aspect=.8)\n",
    "    g.set_xlabels(fontsize=12)\n",
    "    g.set_ylabels(fontsize=12)"
   ]
  },
  {
   "cell_type": "markdown",
   "metadata": {},
   "source": [
    "###### Type of Travel, Class, Flight Distance Survey Results: \n",
    "For business travel in business class category, the number of satisfied passengers are higher than longer flight distance. \n",
    "For other combinations, there is almost equal distribution of satisfied and dissatisfied passengers."
   ]
  },
  {
   "cell_type": "code",
   "execution_count": 72,
   "metadata": {},
   "outputs": [
    {
     "data": {
      "image/png": "[encoded data removed]",
      "text/plain": [
       "<Figure size 845.475x324 with 3 Axes>"
      ]
     },
     "metadata": {},
     "output_type": "display_data"
    }
   ],
   "source": [
    "with sns.axes_style('whitegrid'):\n",
    "    g = sns.catplot(x=\"Departure/Arrival_time_convenient\", y=\"Online_boarding\", hue=\"satisfaction\", col=\"Class\", data=traindf, kind=\"bar\", height=4.5, aspect=.8)\n",
    "    g.set_xlabels(fontsize=12)\n",
    "    g.set_ylabels(fontsize=12)"
   ]
  },
  {
   "cell_type": "markdown",
   "metadata": {},
   "source": [
    "######  Survey Results, online Boarding, departure/Arrival time Convenience grouped by Class: \n",
    "- For Eco Plus class, Departure/Arrival time has negative responses with high number of dissatisfied passengers, even when online boarding has high satisfaction. \n",
    "- For other combinations, there is higher level of satisfaction."
   ]
  },
  {
   "cell_type": "code",
   "execution_count": 73,
   "metadata": {},
   "outputs": [
    {
     "data": {
      "image/png": "[encoded data removed]",
      "text/plain": [
       "<Figure size 586.275x324 with 2 Axes>"
      ]
     },
     "metadata": {},
     "output_type": "display_data"
    },
    {
     "data": {
      "image/png": "[encoded data removed]",
      "text/plain": [
       "<Figure size 586.275x324 with 2 Axes>"
      ]
     },
     "metadata": {},
     "output_type": "display_data"
    }
   ],
   "source": [
    "with sns.axes_style('whitegrid'):\n",
    "    g = sns.catplot(x=\"Class\", y=\"Departure_Delay_in_Minutes\", hue=\"satisfaction\", col=\"Type_of_Travel\", data=traindf, kind=\"bar\", height=4.5, aspect=.8)\n",
    "    g = sns.catplot(x=\"Class\", y=\"Arrival_Delay_in_Minutes\", hue=\"satisfaction\", col=\"Type_of_Travel\", data=traindf, kind=\"bar\", height=4.5, aspect=.8)\n",
    "    g.set_xlabels(fontsize=12)\n",
    "    g.set_ylabels(fontsize=12)"
   ]
  },
  {
   "cell_type": "markdown",
   "metadata": {},
   "source": [
    "###### Survey Results, departure delay, arrival delay grouped by type of travel: \n",
    "- For personal travel (specially Eco Plus and Eco), there is higher number of dissatisfied passengers when arrival delay in minutes is high. \n",
    "- By minute comparison, all combinations have higher no. of dissatisfied passengers compared to no. of satisfied passengers."
   ]
  },
  {
   "cell_type": "code",
   "execution_count": 75,
   "metadata": {},
   "outputs": [
    {
     "data": {
      "image/png": "[encoded data removed]",
      "text/plain": [
       "<Figure size 845.475x324 with 3 Axes>"
      ]
     },
     "metadata": {},
     "output_type": "display_data"
    }
   ],
   "source": [
    "with sns.axes_style('whitegrid'):\n",
    "    g = sns.catplot(x=\"Gate_location\", y=\"Baggage_handling\", hue=\"satisfaction\", col=\"Class\", data=traindf, kind=\"box\", height=4.5, aspect=.8)"
   ]
  },
  {
   "cell_type": "markdown",
   "metadata": {},
   "source": [
    "##### Survey Results, baggage handling, gate location grouped by class: \n",
    "- For business class, it is observed that all gate locations have higher number of dissatisfied passengers when baggage handling is not done perfectly well (rating <= 4). \n",
    "- For Eco Plus, when the gate location is 1 and for Eco, when the gate location is 2, even when the baggages are handled in a mediocre way (rating in range 2.0 - 4.0), passengers remained dissatisfied."
   ]
  },
  {
   "cell_type": "code",
   "execution_count": 77,
   "metadata": {},
   "outputs": [
    {
     "data": {
      "image/png": "[encoded data removed]",
      "text/plain": [
       "<Figure size 845.475x324 with 3 Axes>"
      ]
     },
     "metadata": {},
     "output_type": "display_data"
    }
   ],
   "source": [
    "with sns.axes_style('whitegrid'):\n",
    "    g = sns.catplot(x=\"Inflight_wifi_service\", y=\"Inflight_entertainment\", hue=\"satisfaction\", col=\"Class\", data=traindf, kind=\"box\", height=4.5, aspect=.8)"
   ]
  },
  {
   "cell_type": "markdown",
   "metadata": {},
   "source": [
    "##### Survey Results, inflight entertainment, inflight wi-fi service grouped by Class: \n",
    "- Eco Plus passengers are mostly satisfied without in-flight wi-fi service (rating 0) and medium level of in-flight entertainment (rating 2 - 4). \n",
    "- For Business class passengers, only highest level of in-flight entertainment (rating 5) can make them satisfied. \n",
    "- For Eco passengers, high level of in-flight entertainment (rating 3 - 5) and very high wi-fi service availability (rating 5) can make them satisfied."
   ]
  },
  {
   "cell_type": "code",
   "execution_count": null,
   "metadata": {},
   "outputs": [],
   "source": [
    "with sns.axes_style(style='ticks'):\n",
    "    g = sns.catplot(\"satisfaction\", col=\"Ease_of_Online_booking\", col_wrap=6, data=trainpd, kind=\"count\", height=2.5, aspect=.9)"
   ]
  },
  {
   "cell_type": "code",
   "execution_count": null,
   "metadata": {},
   "outputs": [],
   "source": [
    "with sns.axes_style(style='ticks'):\n",
    "    g = sns.catplot(\"satisfaction\", col=\"Seat_comfort\", col_wrap=6, data=trainpd, kind=\"count\", height=2.5, aspect=.8)"
   ]
  },
  {
   "cell_type": "code",
   "execution_count": null,
   "metadata": {},
   "outputs": [],
   "source": [
    "with sns.axes_style(style='ticks'):\n",
    "    g = sns.catplot(\"satisfaction\", col=\"Food_and_drink\", col_wrap=6, data=trainpd, kind=\"count\", height=2.5, aspect=.8)"
   ]
  },
  {
   "cell_type": "code",
   "execution_count": null,
   "metadata": {},
   "outputs": [],
   "source": [
    "Ease of Online Booking, Seat Comfort, Cleanliness, Food and Drink: For all of these features, maximum no. of satisfied \n",
    "passengers belong  to the category of 4 and 5 rating givers. Below rating 4, passengers are mostly dissatisfied."
   ]
  },
  {
   "cell_type": "code",
   "execution_count": null,
   "metadata": {},
   "outputs": [],
   "source": [
    "fig, axarr = plt.subplots(2, 2, figsize=(12, 8))\n",
    "\n",
    "table1 = pd.crosstab(trainpd['satisfaction'], trainpd['Checkin_service'])\n",
    "sns.heatmap(table1, cmap='Oranges', ax = axarr[0][0])\n",
    "table2 = pd.crosstab(trainpd['satisfaction'], trainpd['Inflight_service'])\n",
    "sns.heatmap(table2, cmap='Blues', ax = axarr[0][1])\n",
    "table3 = pd.crosstab(trainpd['satisfaction'], trainpd['On-board_service'])\n",
    "sns.heatmap(table3, cmap='pink', ax = axarr[1][0])\n",
    "table4 = pd.crosstab(trainpd['satisfaction'], trainpd['Leg_room_service'])\n",
    "sns.heatmap(table4, cmap='bone', ax = axarr[1][1])"
   ]
  },
  {
   "cell_type": "code",
   "execution_count": null,
   "metadata": {},
   "outputs": [],
   "source": [
    "Checkin Service, Inflight Service, On-board Service, Leg-room Service: For checkin service, 0-2 rating givers are predominantly dissatisfied. For other three services, only 4 and 5 rating givers belong to satisfied passengers category."
   ]
  },
  {
   "cell_type": "code",
   "execution_count": null,
   "metadata": {},
   "outputs": [],
   "source": [
    "Label Encoding of Categorical Variables\n"
   ]
  },
  {
   "cell_type": "code",
   "execution_count": null,
   "metadata": {},
   "outputs": [],
   "source": [
    "from sklearn.preprocessing import LabelEncoder\n",
    "lencoders = {}\n",
    "for col in trainpd.select_dtypes(include=['object']).columns:\n",
    "    lencoders[col] = LabelEncoder()\n",
    "    trainpd[col] = lencoders[col].fit_transform(trainpd[col])\n",
    "#print (trainpd.select_dtypes)"
   ]
  },
  {
   "cell_type": "code",
   "execution_count": null,
   "metadata": {},
   "outputs": [],
   "source": [
    "lencoders_t = {}\n",
    "for col in testpd.select_dtypes(include=['object']).columns:\n",
    "    lencoders_t[col] = LabelEncoder()\n",
    "    testpd[col] = lencoders_t[col].fit_transform(testpd[col])"
   ]
  },
  {
   "cell_type": "code",
   "execution_count": null,
   "metadata": {},
   "outputs": [],
   "source": [
    "Outliers Detection and Removal"
   ]
  },
  {
   "cell_type": "code",
   "execution_count": null,
   "metadata": {},
   "outputs": [],
   "source": [
    "Q1 = trainpd.quantile(0.25)\n",
    "Q3 = trainpd.quantile(0.75)\n",
    "IQR = Q3 - Q1\n",
    "print(IQR)"
   ]
  },
  {
   "cell_type": "code",
   "execution_count": null,
   "metadata": {},
   "outputs": [],
   "source": [
    "# Removing outliers from dataset\n",
    "trainpd = trainpd[~((trainpd < (Q1 - 1.5 * IQR)) |(trainpd > (Q3 + 1.5 * IQR))).any(axis=1)]\n",
    "trainpd.shape"
   ]
  },
  {
   "cell_type": "code",
   "execution_count": null,
   "metadata": {},
   "outputs": [],
   "source": [
    "Correlation among Features"
   ]
  },
  {
   "cell_type": "code",
   "execution_count": null,
   "metadata": {},
   "outputs": [],
   "source": [
    "corr = trainpd.corr()\n",
    "mask = np.triu(np.ones_like(corr, dtype=np.bool))\n",
    "f, ax = plt.subplots(figsize=(20, 20))\n",
    "cmap = sns.diverging_palette(150, 1, as_cmap=True)\n",
    "sns.heatmap(corr, mask=mask, cmap=cmap, vmax=None, center=0,square=True, annot=True, linewidths=.5, cbar_kws={\"shrink\": .9})"
   ]
  },
  {
   "cell_type": "code",
   "execution_count": null,
   "metadata": {},
   "outputs": [],
   "source": [
    "#\"Ease_of_Online_booking\" is highly correlated with \"Inflight_wifi_service\". Also \"Inflight_service\" is highly correlated\n",
    "#with \"Baggage_handling\". But no pair is having corr. coefficient exactly equal to 1. \n",
    "#So there is no perfect multicollinearity. Hence we are not discarding any variable."
   ]
  },
  {
   "cell_type": "markdown",
   "metadata": {},
   "source": [
    "### Top 10 Feature Selection through Chi-Square"
   ]
  },
  {
   "cell_type": "code",
   "execution_count": null,
   "metadata": {},
   "outputs": [],
   "source": [
    "r_scaler = preprocessing.MinMaxScaler()\n",
    "r_scaler.fit(trainpd)\n",
    "#modified_data = pd.DataFrame(r_scaler.transform(trainpd), index=train['id'], columns=train.columns)\n",
    "modified_data = pd.DataFrame(r_scaler.transform(train), columns=train.columns)\n",
    "modified_data.head()"
   ]
  },
  {
   "cell_type": "code",
   "execution_count": null,
   "metadata": {},
   "outputs": [],
   "source": []
  },
  {
   "cell_type": "code",
   "execution_count": null,
   "metadata": {},
   "outputs": [],
   "source": []
  },
  {
   "cell_type": "code",
   "execution_count": null,
   "metadata": {},
   "outputs": [],
   "source": []
  },
  {
   "cell_type": "code",
   "execution_count": null,
   "metadata": {},
   "outputs": [],
   "source": []
  },
  {
   "cell_type": "code",
   "execution_count": null,
   "metadata": {},
   "outputs": [],
   "source": []
  },
  {
   "cell_type": "code",
   "execution_count": null,
   "metadata": {},
   "outputs": [],
   "source": []
  },
  {
   "cell_type": "code",
   "execution_count": null,
   "metadata": {},
   "outputs": [],
   "source": []
  },
  {
   "cell_type": "code",
   "execution_count": null,
   "metadata": {},
   "outputs": [],
   "source": []
  },
  {
   "cell_type": "code",
   "execution_count": null,
   "metadata": {},
   "outputs": [],
   "source": []
  },
  {
   "cell_type": "code",
   "execution_count": null,
   "metadata": {},
   "outputs": [],
   "source": [
    "#Define features and target (this is helpful in case you would like to drop any features that harm model performance)\n",
    "features = ['Gender', 'Customer Type', 'Age', 'Type of Travel', 'Class',\n",
    "       'Flight Distance', 'Inflight wifi service',\n",
    "       'Departure/Arrival time convenient', 'Ease of Online booking',\n",
    "       'Gate location', 'Food and drink', 'Online boarding', 'Seat comfort',\n",
    "       'Inflight entertainment', 'On-board service', 'Leg room service',\n",
    "       'Baggage handling', 'Checkin service', 'Inflight service',\n",
    "       'Cleanliness', 'Departure Delay in Minutes', 'Arrival Delay in Minutes']\n",
    "target = ['satisfaction']"
   ]
  },
  {
   "cell_type": "code",
   "execution_count": null,
   "metadata": {},
   "outputs": [],
   "source": [
    "# Split into test and train\n",
    "X_train = trainpd[features]\n",
    "y_train = trainpd[target].to_numpy()\n",
    "X_test = testpd[features]\n",
    "y_test = testpd[target].to_numpy()\n",
    "\n"
   ]
  },
  {
   "cell_type": "code",
   "execution_count": null,
   "metadata": {},
   "outputs": [],
   "source": [
    "# Normalize Features\n",
    "scaler = StandardScaler()\n",
    "X_train = scaler.fit_transform(X_train)\n",
    "X_test = scaler.fit_transform(X_test)"
   ]
  },
  {
   "cell_type": "code",
   "execution_count": null,
   "metadata": {},
   "outputs": [],
   "source": [
    "# Drop unnecessary data\n",
    "payroll_data1= payroll_data.drop([\"First Name\", \"Last Name\", \"Mid Init\"], axis=\"columns\")"
   ]
  },
  {
   "cell_type": "code",
   "execution_count": null,
   "metadata": {},
   "outputs": [],
   "source": [
    "payroll_data1.head(3)"
   ]
  },
  {
   "cell_type": "code",
   "execution_count": null,
   "metadata": {},
   "outputs": [],
   "source": [
    "#The info() function is used to print a concise summary of a DataFrame. \n",
    "payroll_data1.count()"
   ]
  },
  {
   "cell_type": "code",
   "execution_count": null,
   "metadata": {},
   "outputs": [],
   "source": [
    "payroll_data1.info()"
   ]
  },
  {
   "cell_type": "code",
   "execution_count": null,
   "metadata": {},
   "outputs": [],
   "source": [
    "#Data cleaning (Transform from ELT)\n",
    "#payroll_data1[\"Title Description\"].value_counts()"
   ]
  },
  {
   "cell_type": "code",
   "execution_count": null,
   "metadata": {},
   "outputs": [],
   "source": [
    "payroll_data1.nunique()"
   ]
  },
  {
   "cell_type": "code",
   "execution_count": null,
   "metadata": {},
   "outputs": [],
   "source": [
    "#preparing data to clean convert to string\n",
    "payroll_data1[\"Base Salary\", \"Regular Gross Paid\", \"Total OT Paid\", \"Total Other Pay\"] = payroll_data1[\"Base Salary\"].astype(str)"
   ]
  },
  {
   "cell_type": "code",
   "execution_count": null,
   "metadata": {},
   "outputs": [],
   "source": [
    "# Minor Data Munging to Re-Format the Data Frames\n",
    "payroll_data1[\"Base Salary\"] = payroll_data1[\"Base Salary\"].astype(str)\n",
    "payroll_data1[\"Regular Gross Paid\"] = payroll_data1[\"Regular Gross Paid\"].astype(str).str.strip()\n",
    "payroll_data1[\"Total OT Paid\"] = payroll_data1[\"Total OT Paid\"].astype(str)\n",
    "payroll_data1[\"Total Other Pay\"] = payroll_data1[\"Total Other Pay\"].astype(str)"
   ]
  },
  {
   "cell_type": "code",
   "execution_count": null,
   "metadata": {},
   "outputs": [],
   "source": [
    "# Convert data to Integer and floats.\n",
    "payroll_data1[\"Base Salary\", \"Regular Gross Paid\", \"Total OT Paid\", \"Total Other Pay\"] = payroll_data1[\"Base Salary\"].str.replace('$','')\n",
    "payroll_data1[\"Title Description\"] = payroll_data1[\"Title Description\"].astype(str).str.strip()\n",
    "payroll_data1[\"Pay Basis\"] =  payroll_data1[\"Pay Basis\"].str.strip()\n"
   ]
  },
  {
   "cell_type": "code",
   "execution_count": null,
   "metadata": {},
   "outputs": [],
   "source": [
    "#to clean-up non-alpha numberic characters\n",
    "payroll_data1[\"Title Description\"]= payroll_data1[\"Title Description\"].str.replace('[^A-Za-z\\s]+', '')"
   ]
  },
  {
   "cell_type": "code",
   "execution_count": null,
   "metadata": {},
   "outputs": [],
   "source": [
    "#Convert columns back to float and integers\n",
    "payroll_data1[\"Base Salary\"] = payroll_data1[\"Base Salary\"].astype(float)\n",
    "payroll_data1[\"Base Salary\"] = payroll_data1[\"Base Salary\"].astype(int)\n",
    "payroll_data1[\"Regular Gross Paid\"] = payroll_data1[\"Regular Gross Paid\"].astype(float)\n",
    "payroll_data1[\"Total OT Paid\"] = payroll_data1[\"Total OT Paid\"].astype(float)\n",
    "payroll_data1[\"Total Other Pay\"] = payroll_data1[\"Total Other Pay\"].astype(float)\n",
    "payroll_data1.head()\n",
    "math.floor(1.1111)\n",
    "payroll_data1.describe()"
   ]
  },
  {
   "cell_type": "markdown",
   "metadata": {},
   "source": [
    "# Analysis and Visualizatons "
   ]
  },
  {
   "cell_type": "code",
   "execution_count": null,
   "metadata": {},
   "outputs": [],
   "source": [
    "payroll_data1[\"Fiscal Year\"].unique() "
   ]
  },
  {
   "cell_type": "code",
   "execution_count": null,
   "metadata": {},
   "outputs": [],
   "source": [
    "annual_pay = payroll_data1[(payroll_data1[\"Pay Basis\"] == \"per Annum\")]"
   ]
  },
  {
   "cell_type": "code",
   "execution_count": null,
   "metadata": {},
   "outputs": [],
   "source": [
    "# Subset of Data,to avoid negative values and zeros. \n",
    "x = annual_pay[(annual_pay[\"Regular Gross Paid\"] > 10000) & (annual_pay[\"Base Salary\"] > 10000)]"
   ]
  },
  {
   "cell_type": "code",
   "execution_count": null,
   "metadata": {},
   "outputs": [],
   "source": [
    "# Visualization for lowest paid employees\n",
    "x.groupby([\"Fiscal Year\",\"Title Description\"])[\"Regular Gross Paid\"].mean().sort_values(ascending=True)[:15].plot(kind='barh',color='lightslategray')\n",
    "plt.xticks(fontsize=10, color=\"gray\", weight=\"bold\")\n",
    "plt.yticks(fontsize=10, color=\"cadetblue\",weight=\"bold\")\n",
    "plt.ylabel('')\n",
    "plt.xlabel('$',fontsize=10)\n",
    "plt.rcParams['figure.figsize']= 7,7\n",
    "plt.text(x=-3000, y=15.5, s=\"15 Lowest Paid Employees\", fontsize=25, weight=\"bold\",color=\"cadetblue\",alpha=.98)\n",
    "plt.text(x=-3000, y=14.95, s=\"Employees with Average Annual Pay above $10,000 -  FY2014-2019\",fontsize=8, weight=\"bold\",color=\"blue\",alpha=.45)\n",
    "# Show the Figure\n",
    "\n",
    "plt.show() \n",
    "plt.savefig('output/lowest_Paid_employees.png')"
   ]
  },
  {
   "cell_type": "code",
   "execution_count": null,
   "metadata": {},
   "outputs": [],
   "source": [
    "# Visualization for highest paid employees\n",
    "x.groupby([\"Fiscal Year\",\"Title Description\"])[\"Regular Gross Paid\"].mean().sort_values(ascending=False)[:15].plot(kind=\"barh\",color=\"lightslategray\")\n",
    "# Label the axes\n",
    "plt.xticks(fontsize=11, weight= \"bold\",rotation=0, color=\"gray\")\n",
    "plt.yticks(fontsize=9.0, weight=\"bold\",color=\"cadetblue\")\n",
    "plt.ylabel('')\n",
    "plt.xlabel('$',fontsize=9)\n",
    "plt.rcParams['figure.figsize']= 7,7\n",
    "plt.title(\"15 Highest Paid Employees\", loc=\"left\",fontsize=25, color=\"cadetblue\", fontweight= \"bold\", alpha=.90)\n",
    "plt.text(x=-5, y=-2.5, s=\"Employees on Annual Pay above $10,000\",weight=\"bold\", fontsize=10,color=\"gray\", alpha=.45)\n",
    "plt.axvline(x=(stats.trim_mean(x[\"Regular Gross Paid\"].values, 0.1)), color=\"b\", linewidth=2.3, alpha=.75)\n",
    "plt.annotate(\"Trimmed Mean\",fontsize=12, color=\"b\", fontweight= \"bold\",xy=(90000,9), xytext=(65000,9), arrowprops=dict(arrowstyle='<-',facecolor=\"red\",connectionstyle=\"arc3\"))\n",
    "\n",
    "# Show the Figure\n",
    "plt.tight_layout()\n",
    "plt.show() \n",
    "plt.savefig('output/highest_Paid_employees.png')"
   ]
  },
  {
   "cell_type": "code",
   "execution_count": null,
   "metadata": {},
   "outputs": [],
   "source": [
    "#Graph Gross Pay by work location, top 15\n",
    "x.groupby([\"Work Location Borough\", \"Fiscal Year\"])[\"Regular Gross Paid\"].sum().sort_values(ascending=True)[:15].plot(kind='barh',color='lightslategray')\n",
    "plt.xlabel('$',fontsize=10)\n",
    "plt.ylabel(\" \")\n",
    "plt.rcParams['figure.figsize']= 9,7\n",
    "plt.title(\" 15 Highest Regular Gross Pay Employees by Borough\", loc=\"left\",fontsize=15, color=\"cadetblue\", fontweight= \"bold\", alpha=.90)\n",
    "\n",
    "plt.xticks(fontsize=11, weight= \"bold\",rotation=0, color=\"gray\")\n",
    "plt.yticks(fontsize=9.0, weight=\"bold\",color=\"cadetblue\")\n",
    "plt.text(x=-5, y=-2.5, s=\"Employees on Annual Pay above $10,000\",weight=\"bold\", fontsize=10,color=\"gray\", alpha=.45)\n",
    "\n",
    "# Show the Figure\n",
    "plt.tight_layout()\n",
    "plt.show()\n",
    "#save figure\n",
    "plt.savefig('output/Work_Location_Borough.png')"
   ]
  },
  {
   "cell_type": "code",
   "execution_count": null,
   "metadata": {},
   "outputs": [],
   "source": [
    "## 2019 Agencies with most employes\n",
    "x1 = payroll_data1[payroll_data1[\"Fiscal Year\"] == 2019][\"Agency Name\"].value_counts().sort_values(ascending=False)[0:20].values\n",
    "y1 = payroll_data1[payroll_data1[\"Fiscal Year\"] == 2019][\"Agency Name\"].value_counts().sort_values(ascending=False)[0:20].index\n",
    "plt.rcParams[\"figure.figsize\"]= 9,7\n",
    "ax1 = sb.barplot(x=x1, y=y1, palette=\"vlag\", saturation=1)\n",
    "ax1.figure.gca().xaxis.set_major_locator(MaxNLocator(integer=True))\n",
    "sb.set_context(\"poster\", font_scale=2)\n",
    "\n",
    "plt.xticks(fontsize=8, weight= 'bold',rotation=0, color='black')\n",
    "plt.yticks(fontsize=8, weight= 'bold',rotation=0, color='black')\n",
    "\n",
    "#Remove the top and right spines from plot(s). Figure to despine all axes of, defaults to the current figure.\n",
    "sb.despine()\n",
    "ax1.set_title(\"2019 Top 20 Agencies With Most Employees\",loc=\"left\",fontsize=15, color=\"cadetblue\", fontweight= \"bold\", alpha=.90)\n",
    "\n",
    "plt.xlabel('# of Employees',fontsize=5)\n",
    "\n",
    "# Show the Figure\n",
    "plt.tight_layout()\n",
    "plt.show()\n",
    "#save figure\n",
    "plt.savefig('output/2019_Agencies_w_most employes.png')"
   ]
  },
  {
   "cell_type": "code",
   "execution_count": null,
   "metadata": {},
   "outputs": [],
   "source": [
    "possibilities = [u'seaborn-darkgrid', u'seaborn-notebook', u'classic', u'seaborn-ticks', u'grayscale', u'bmh', u'seaborn-talk', u'dark_background', u'ggplot', u'fivethirtyeight', u'_classic_test', u'seaborn-colorblind', u'seaborn-deep', u'seaborn-whitegrid', u'seaborn-bright', u'seaborn-poster', u'seaborn-muted', u'seaborn-paper', u'seaborn-white', u'seaborn-pastel', u'seaborn-dark', u'seaborn', u'seaborn-dark-palette']\n",
    "\n",
    "# For values greater than 20K, calculated mean and median for regular gross pay\n",
    "x = payroll_data1[(payroll_data1[\"Pay Basis\"] == \"per Annum\") & (payroll_data1[\"Regular Gross Paid\"] > 20000) & (payroll_data1[\"Base Salary\"] > 20000)]\n",
    "\n",
    "# Regular Gross Pay Plot\n",
    "x.groupby(x[\"Fiscal Year\"])[\"Regular Gross Paid\"].median().plot(linewidth=4,linestyle=\"dashed\", c='green', markersize=5)\n",
    "x.groupby(x[\"Fiscal Year\"])[\"Regular Gross Paid\"].mean().plot(linewidth=4, linestyle=\"dashed\", c='blue', markersize=5)\n",
    "plt.rcParams[\"figure.figsize\"]= 10,7\n",
    "plt.xlim(left=2014, right=2019)\n",
    "\n",
    "#add title and descriptions\n",
    "plt.title(\"Regular Gross Pay\", loc=\"left\",fontsize=25, color=\"cadetblue\", fontweight= \"bold\", alpha=.90)\n",
    "\n",
    "\n",
    "plt.text(x=2014, y=75850, s=\"Employees On Annual Pay above $20,000\",fontsize=12,alpha=.75)\n",
    "\n",
    "plt.text(x=2017, y=65400, s=\"Median\", color='green', weight='bold', rotation=7, fontsize=14)\n",
    "plt.text(x=2016, y=69000, s=\"Mean\", color='blue', weight='bold', rotation=7, fontsize=14)\n",
    "plt.xticks(range(2014,2019,1), fontsize=14, weight= 'bold')\n",
    "plt.yticks(fontsize=14, weight= 'bold')\n",
    "plt.ylabel(\"Regular Gross Paid\", fontsize=14, weight= 'bold')\n",
    "plt.xlabel(\"Fiscal Year\", fontsize=14, weight= 'bold')\n",
    "plt.grid(\"True\")\n",
    "plt.legend([\"Median\", \"Mean\"],loc=\"right\", fontsize=14, fancybox=True)\n",
    "\n",
    "plt.grid(color='b', ls = '-.', lw = 0.25)\n",
    "\n",
    "# Show the Figure\n",
    "plt.tight_layout()\n",
    "plt.show()\n",
    "# Save the Figure\n",
    "plt.savefig('output/Regular_Gross_Pay_Plot.png')"
   ]
  },
  {
   "cell_type": "code",
   "execution_count": null,
   "metadata": {},
   "outputs": [],
   "source": []
  },
  {
   "cell_type": "code",
   "execution_count": null,
   "metadata": {},
   "outputs": [],
   "source": [
    "# Top 10 Boroughs with Highest Average Gross Pay FY2019\n",
    "\n",
    "fy19 = x[x[\"Fiscal Year\"]==2019]\n",
    "fy19.groupby([\"Work Location Borough\"])[\"Regular Gross Paid\"].mean().sort_values(ascending=False)[:10].plot(kind='bar',color='darkcyan')\n",
    "\n",
    "plt.xticks(fontsize=8, weight= 'bold',rotation=0, color='black')\n",
    "plt.yticks(fontsize=8, weight= 'bold',rotation=0, color='black')\n",
    "plt.rcParams[\"figure.figsize\"]= 10,10\n",
    "\n",
    "plt.title(\"Top 10 Boroughs with Highest Average Gross Pay in 2019\", loc=\"left\",fontsize=25, color=\"cadetblue\", fontweight= \"bold\", alpha=.90)\n",
    "\n",
    "plt.text(x=-.8, y=-15000, s=\"Employees On Annual Pay above $20,000\",fontsize=12,alpha=.75)\n",
    "plt.xlabel('')\n",
    "plt.axhline(y=fy19[\"Regular Gross Paid\"].mean(), color='b', linewidth=1.3,linestyle='dashdot', alpha=.75)\n",
    "plt.text(x = 2.5, y = (fy19[\"Regular Gross Paid\"].mean() + 240), s=\"Average Gross Pay\", fontsize=18, color=\"black\",weight='bold')\n",
    "\n",
    "# Show the Figure\n",
    "\n",
    "plt.show()\n",
    "# Save the Figure\n",
    "plt.savefig('output/Highest_Average_Gross_2019Plot.png')"
   ]
  },
  {
   "cell_type": "code",
   "execution_count": null,
   "metadata": {},
   "outputs": [],
   "source": [
    "# Top 10 Boroughs with Highest Average Gross Pay FY2018\n",
    "plt.style.use('ggplot')\n",
    "fy18 = x[x[\"Fiscal Year\"]==2018]\n",
    "fy18.groupby([\"Work Location Borough\"])[\"Regular Gross Paid\"].mean().sort_values(ascending=False)[:10].plot(kind='bar',color='darkcyan')\n",
    "plt.xticks(fontsize=8, weight= 'bold',rotation=0, color='black')\n",
    "plt.yticks(fontsize=8, weight= 'bold',rotation=0, color='black')\n",
    "plt.rcParams[\"figure.figsize\"]= 10,10\n",
    "\n",
    "plt.title(\"Top 10 Boroughs with Highest Average Gross Pay in 2018\", loc=\"left\",fontsize=25, color=\"cadetblue\", fontweight= \"bold\", alpha=.90)\n",
    "plt.text(x=-.8, y=-15000, s=\"Employees On Annual Pay above $20,000\",fontsize=12,alpha=.75)\n",
    "plt.xlabel('')\n",
    "plt.axhline(y=fy18[\"Regular Gross Paid\"].mean(), color='w', linewidth=1.3,linestyle='dashdot', alpha=.75)\n",
    "plt.text(x = 2.5, y = (fy18[\"Regular Gross Paid\"].mean() + 240), s=\"Average Gross Pay\", fontsize=18, color=\"black\",weight='bold')\n",
    "\n",
    "# Show the Figure\n",
    "plt.show()\n",
    "# Save the Figure\n",
    "plt.savefig('output/Highest_Average_Gross_2018Plot.png')"
   ]
  },
  {
   "cell_type": "code",
   "execution_count": null,
   "metadata": {},
   "outputs": [],
   "source": [
    "# Top 10 Boroughs with Highest Average Gross Pay FY2017\n",
    "plt.style.use('ggplot')\n",
    "fy17 = x[x[\"Fiscal Year\"]==2017]\n",
    "fy17.groupby([\"Work Location Borough\"])[\"Regular Gross Paid\"].mean().sort_values(ascending=False)[:10].plot(kind='bar',color='darkcyan')\n",
    "plt.xticks(fontsize=8, weight= 'bold',rotation=0, color='black')\n",
    "plt.yticks(fontsize=8, weight= 'bold',rotation=0, color='black')\n",
    "plt.rcParams[\"figure.figsize\"]= 10,10\n",
    "\n",
    "plt.title(\"Top 10 Boroughs with Highest Average Gross Pay in 2017\", loc=\"left\",fontsize=25, color=\"cadetblue\", fontweight= \"bold\", alpha=.90)\n",
    "\n",
    "plt.text(x=-.8, y=-15000, s=\"Employees On Annual Pay above $20,000\",fontsize=12,alpha=.75)\n",
    "plt.xlabel('')\n",
    "plt.axhline(y=fy17[\"Regular Gross Paid\"].mean(), color='b', linewidth=1.3,linestyle='dashdot', alpha=.75)\n",
    "plt.text(x = 2.5, y = (fy17[\"Regular Gross Paid\"].mean() + 240), s=\"Average Gross Pay\", fontsize=18, color=\"black\",weight='bold')\n",
    "\n",
    "# Show the Figure\n",
    "plt.show()\n",
    "# Save the Figure\n",
    "plt.savefig('output/Highest_Average_Gross_2017Plot.png')\n"
   ]
  },
  {
   "cell_type": "code",
   "execution_count": null,
   "metadata": {},
   "outputs": [],
   "source": [
    "# Top 10 Boroughs with Highest Average Gross Pay FY2016\n",
    "fy16 = x[x[\"Fiscal Year\"]==2016]\n",
    "fy16.groupby([\"Work Location Borough\"])[\"Regular Gross Paid\"].mean().sort_values(ascending=False)[:10].plot(kind='bar',color='darkcyan')\n",
    "\n",
    "plt.xticks(fontsize=8, weight= 'bold',rotation=0, color='black')\n",
    "plt.yticks(fontsize=8, weight= 'bold',rotation=0, color='black')\n",
    "plt.rcParams[\"figure.figsize\"]= 10,10\n",
    "\n",
    "plt.title(\"Top 10 Boroughs with Highest Average Gross Pay in 2016\", loc=\"left\",fontsize=25, color=\"cadetblue\", fontweight= \"bold\", alpha=.90)\n",
    "\n",
    "plt.text(x=-.8, y=-15000, s=\"Employees On Annual Pay above $20,000\",fontsize=12,alpha=.75)\n",
    "plt.xlabel('')\n",
    "plt.axhline(y=fy16[\"Regular Gross Paid\"].mean(), color='b', linewidth=1.3,linestyle='dashdot', alpha=.75)\n",
    "plt.text(x = 2.5, y = (fy16[\"Regular Gross Paid\"].mean() + 240), s=\"Average Gross Pay\", fontsize=18, color=\"black\",weight='bold')\n",
    "\n",
    "# Show the Figure\n",
    "plt.show()\n",
    "# Save the Figure\n",
    "plt.savefig('output/Highest_Average_Gross_2016Plot.png')"
   ]
  },
  {
   "cell_type": "code",
   "execution_count": null,
   "metadata": {},
   "outputs": [],
   "source": [
    "import seaborn as sns\n",
    "sns.set_style(\"white\")\n",
    "\n",
    "#Historgram Distribution for gross pay\n",
    "\n",
    "from scipy.stats import norm\n",
    "\n",
    "payroll_data2 = payroll_data1[(payroll_data1[\"Pay Basis\"] == \"per Annum\") & (payroll_data1[\"Regular Gross Paid\"] > 10000) & (payroll_data1[\"Base Salary\"] > 10000)]\n",
    "f14 = payroll_data2[payroll_data2[\"Fiscal Year\"]==2014]\n",
    "f15 = payroll_data2[payroll_data2[\"Fiscal Year\"]==2015]\n",
    "f16 = payroll_data2[payroll_data2[\"Fiscal Year\"]==2016]\n",
    "f17 = payroll_data2[payroll_data2[\"Fiscal Year\"]==2017]\n",
    "f18 = payroll_data2[payroll_data2[\"Fiscal Year\"]==2018]\n",
    "f19 = payroll_data2[payroll_data2[\"Fiscal Year\"]==2019]\n",
    "\n",
    "# Year 2016 Distribution\n",
    "sb.set_context(\"paper\")\n",
    "sb.distplot(f19[\"Regular Gross Paid\"],fit=norm,kde=False)\n",
    "\n",
    "plt.xlim(left=0, right=200000)\n",
    "\n",
    "#Title and Description\n",
    "plt.suptitle(\"Distribution of Gross Salary Fiscal Year 2016 \",fontweight='bold', fontsize=24, color=\"cadetblue\", alpha=.90)\n",
    "plt.title(\"Sub-set of employees with salary above $10K\", loc=\"left\",fontsize=20, color=\"cadetblue\", fontweight= \"bold\", alpha=.90)\n",
    "\n",
    "\n",
    "plt.xticks(fontsize=8, weight= 'bold',rotation=0, color='black')\n",
    "plt.yticks(fontsize=8, weight= 'bold',rotation=0, color='black')\n",
    "plt.grid(color='b', ls = '-.', lw = 0.25)\n",
    "# Show the Figure\n",
    "plt.show()\n",
    "# Save the Figure\n",
    "plt.savefig('output/Dist_Gross_Pay_FY16Plot.png')"
   ]
  },
  {
   "cell_type": "code",
   "execution_count": null,
   "metadata": {},
   "outputs": [],
   "source": [
    "# Year 2017 Distribution    \n",
    "sb.set_context(\"paper\")\n",
    "sb.distplot(f17[\"Base Salary\"],fit=norm,kde=False)\n",
    "sns.set_style(\"white\")\n",
    "\n",
    "#Title and Description\n",
    "plt.xlim(left=0, right=200000)\n",
    "plt.title(\"Distribution of Base Pay 2017\", loc=\"left\",fontsize=25, color=\"cadetblue\", fontweight= \"bold\", alpha=.90)\n",
    "plt.text(x=100000, y=.000013, s=\"Sub-set of employees with salary above $10K\", fontsize=8,alpha=.65)\n",
    "# Show the Figure\n",
    "plt.grid(color='b', ls = '-.', lw = 0.25)\n",
    "plt.show()\n",
    "#save figure\n",
    "plt.savefig('output/Dist_base_Salary_FY17Plot.png')"
   ]
  },
  {
   "cell_type": "code",
   "execution_count": null,
   "metadata": {},
   "outputs": [],
   "source": [
    "# Year 2018 Distribution    \n",
    "sb.set_context(\"paper\")\n",
    "sb.distplot(f18[\"Base Salary\"],fit=norm,kde=False)\n",
    "sns.set_style(\"white\")\n",
    "\n",
    "#Title and Description\n",
    "plt.xlim(left=0, right=200000)\n",
    "plt.title(\"Distribution of Base Salary 2018\", loc=\"left\",fontsize=25, color=\"cadetblue\", fontweight= \"bold\", alpha=.90)\n",
    "plt.text(x=100000, y=.000013, s=\"Sub-set of employees with salary above $10K\", fontsize=8,alpha=.65)\n",
    "\n",
    "plt.xticks(fontsize=8, weight= 'bold',rotation=0, color='black')\n",
    "plt.yticks(fontsize=8, weight= 'bold',rotation=0, color='black')\n",
    "plt.grid(color='b', ls = '-.', lw = 0.25)\n",
    "# Show the Figure\n",
    "plt.show()\n",
    "#save figure\n",
    "plt.savefig('output/Dist_base_salary_FY18Plot.png')"
   ]
  },
  {
   "cell_type": "code",
   "execution_count": null,
   "metadata": {},
   "outputs": [],
   "source": [
    "# Subset Data for Year 2019 Distribution    \n",
    "sb.set_context(\"paper\")\n",
    "sb.distplot(f17[\"Base Salary\"],fit=norm,kde=False)\n",
    "\n",
    "\n",
    "#Title and Description\n",
    "possibilities = [u'seaborn-darkgrid', u'seaborn-notebook', u'classic', u'seaborn-ticks', u'grayscale', u'bmh', u'seaborn-talk', u'dark_background', u'ggplot', u'fivethirtyeight', u'_classic_test', u'seaborn-colorblind', u'seaborn-deep', u'seaborn-whitegrid', u'seaborn-bright', u'seaborn-poster', u'seaborn-muted', u'seaborn-paper', u'seaborn-white', u'seaborn-pastel', u'seaborn-dark', u'seaborn', u'seaborn-dark-palette']\n",
    "plt.xlim(left=0, right=200000)\n",
    "plt.suptitle(\"Distribution of Base Salary Fiscal Years 2019 vs. 2018\",fontweight='bold', fontsize=24, color=\"cadetblue\", alpha=.90)\n",
    "\n",
    "plt.text(x=100000, y=.000013, s=\"Sub-set of employees with salary above $10K\", fontsize=8,alpha=.65)\n",
    "\n",
    "plt.xticks(fontsize=8, weight= 'bold',rotation=0, color='black')\n",
    "plt.yticks(fontsize=8, weight= 'bold',rotation=0, color='black')\n",
    "\n",
    "#Comparison to prior FY distribution\n",
    "sb.set_context(\"paper\")\n",
    "sb.distplot(f18[\"Regular Gross Paid\"],fit=norm,kde=False, color=\"b\")\n",
    "plt.grid(color='b', ls = '-.', lw = 0.25)\n",
    "# Show the Figure\n",
    "plt.show()\n",
    "#save figure\n",
    "plt.savefig('output/Dist_Gross_Pay_FY19Plot.png')"
   ]
  },
  {
   "cell_type": "code",
   "execution_count": null,
   "metadata": {},
   "outputs": [],
   "source": [
    "my_dpi=96\n",
    "plt.figure(figsize=(1000/my_dpi, 1000/my_dpi), dpi=my_dpi)\n",
    "possibilities = [u'seaborn-darkgrid', u'seaborn-notebook', u'classic', u'seaborn-ticks', u'grayscale', u'bmh', u'seaborn-talk', u'dark_background', u'ggplot', u'fivethirtyeight', u'_classic_test', u'seaborn-colorblind', u'seaborn-deep', u'seaborn-whitegrid', u'seaborn-bright', u'seaborn-poster', u'seaborn-muted', u'seaborn-paper', u'seaborn-white', u'seaborn-pastel', u'seaborn-dark', u'seaborn', u'seaborn-dark-palette']\n",
    "\n",
    "# Distribution of Base Salary for Annual Employees making over 10,000\n",
    "fig1 = plt.figure(figsize=(12,9))\n",
    "ax2 = fig1.add_subplot(221)\n",
    "ax3 = fig1.add_subplot(222)\n",
    "ax4  = fig1.add_subplot(223)\n",
    "ax5 = fig1.add_subplot(224)\n",
    " # titles \n",
    "fig1.suptitle(\"Base Salary Distribution (Salary > $10,000)\",fontweight='bold', fontsize=22)\n",
    "ax2.title.set_text('Fiscal Year 2016')\n",
    "ax3.title.set_text('Fiscal Year 2017')\n",
    "ax4.title.set_text('Fiscal Year 2018')\n",
    "ax5.title.set_text('Fiscal Year 2019')\n",
    "#add grids\n",
    "ax2.grid(color='b', ls = '-.', lw = 0.25)\n",
    "ax3.grid(color='b', ls = '-.', lw = 0.25)\n",
    "ax4.grid(color='b', ls = '-.', lw = 0.25)\n",
    "ax5.grid(color='b', ls = '-.', lw = 0.25)\n",
    "\n",
    "#subplot graph data\n",
    "sb.distplot(f16[\"Base Salary\"],kde=False, ax=ax2)\n",
    "sb.distplot(f17[\"Base Salary\"],kde=False, ax=ax3)\n",
    "sb.distplot(f18[\"Base Salary\"],kde=False, ax=ax4)\n",
    "sb.distplot(f19[\"Base Salary\"],kde=False, ax=ax5)\n",
    "plt.subplots_adjust(left=.05, right=.95,hspace=.5, wspace=.35,top=.85)\n",
    "plt.xlim(left=0, right=200000)\n",
    "plt.xticks(fontsize=8, weight= 'bold',rotation=0, color='black')\n",
    "plt.yticks(fontsize=8, weight= 'bold',rotation=0, color='black')\n",
    "\n",
    "# Show the Figure\n",
    "plt.show()\n",
    "#save figure\n",
    "plt.savefig('output/Dist_BaseSal.png')"
   ]
  },
  {
   "cell_type": "code",
   "execution_count": null,
   "metadata": {},
   "outputs": [],
   "source": [
    "# Distribution of Base Salary for Annual Employees making over 10,000\n",
    "possibilities = [u'seaborn-darkgrid', u'seaborn-notebook', u'classic', u'seaborn-ticks', u'grayscale', u'bmh', u'seaborn-talk', u'dark_background', u'ggplot', u'fivethirtyeight', u'_classic_test', u'seaborn-colorblind', u'seaborn-deep', u'seaborn-whitegrid', u'seaborn-bright', u'seaborn-poster', u'seaborn-muted', u'seaborn-paper', u'seaborn-white', u'seaborn-pastel', u'seaborn-dark', u'seaborn', u'seaborn-dark-palette']\n",
    "\n",
    "fig1 = plt.figure(figsize=(12,9))\n",
    "ax2 = fig1.add_subplot(221)\n",
    "ax3 = fig1.add_subplot(222)\n",
    "ax4  = fig1.add_subplot(223)\n",
    "ax5 = fig1.add_subplot(224)\n",
    " # titles \n",
    "fig1.suptitle(\"Base Salary Distribution (Salary > $10,000)\",fontweight='bold', fontsize=22)\n",
    "ax2.title.set_text('Fiscal Year 2016')\n",
    "ax3.title.set_text('Fiscal Year2017')\n",
    "ax4.title.set_text('Fiscal Year2018')\n",
    "ax5.title.set_text('Fiscal Year2019')\n",
    "sb.distplot(f16[\"Base Salary\"],fit=norm,kde=False, ax=ax2)\n",
    "ax2.set_xlim(0,185000)\n",
    "ax3.set_xlim(0,185000)\n",
    "ax4.set_xlim(0,185000)\n",
    "ax5.set_xlim(0,185000)\n",
    "\n",
    "\n",
    "sb.distplot(f17[\"Base Salary\"],fit=norm,kde=False, ax=ax3)\n",
    "plt.xlim(left=0, right=200000)\n",
    "sb.distplot(f18[\"Base Salary\"],fit=norm,kde=False, ax=ax4)\n",
    "plt.xlim(left=0, right=200000)\n",
    "sb.distplot(f19[\"Base Salary\"], ax=ax5)\n",
    "plt.subplots_adjust(left=.05, right=.95,hspace=.5, wspace=.35,top=.85)\n",
    "plt.xlim(left=0, right=175000)\n",
    "\n",
    "plt.xticks(fontsize=8, weight= 'bold',rotation=0, color='black')\n",
    "plt.yticks(fontsize=8, weight= 'bold',rotation=0, color='black')\n",
    "\n",
    "# Show the Figure\n",
    "plt.show()\n",
    "#save figure\n",
    "plt.savefig('output/Dist_BaseSalDistribution.png')"
   ]
  },
  {
   "cell_type": "code",
   "execution_count": null,
   "metadata": {},
   "outputs": [],
   "source": [
    "payroll_data2.describe()"
   ]
  },
  {
   "cell_type": "code",
   "execution_count": null,
   "metadata": {},
   "outputs": [],
   "source": [
    "# distribution of Gross Pay in 2019.\n",
    "\n",
    "possibilities = [u'seaborn-darkgrid', u'seaborn-notebook', u'classic', u'seaborn-ticks', u'grayscale', u'bmh', u'seaborn-talk', u'dark_background', u'ggplot', u'fivethirtyeight', u'_classic_test', u'seaborn-colorblind', u'seaborn-deep', u'seaborn-whitegrid', u'seaborn-bright', u'seaborn-poster', u'seaborn-muted', u'seaborn-paper', u'seaborn-white', u'seaborn-pastel', u'seaborn-dark', u'seaborn', u'seaborn-dark-palette']\n",
    "\n",
    "plt.style.use('seaborn-darkgrid')\n",
    "plt.suptitle(\"Distribution of of Gross Pay in FY 2019 \",fontweight='bold', fontsize=24, color=\"cadetblue\", alpha=.90)\n",
    "\n",
    "sb.kdeplot(payroll_data2[\"Regular Gross Paid\"], shade=True, color=\"blue\",clip=(0,240000))\n",
    "\n",
    "\n",
    "# Show the Figure\n",
    "plt.show()\n",
    "#save figure\n",
    "plt.savefig('output/Dist_GrossPay.png')\n"
   ]
  }
 ],
 "metadata": {
  "anaconda-cloud": {},
  "kernelspec": {
   "display_name": "Python 3",
   "language": "python",
   "name": "python3"
  },
  "language_info": {
   "codemirror_mode": {
    "name": "ipython",
    "version": 3
   },
   "file_extension": ".py",
   "mimetype": "text/x-python",
   "name": "python",
   "nbconvert_exporter": "python",
   "pygments_lexer": "ipython3",
   "version": "3.7.3"
  }
 },
 "nbformat": 4,
 "nbformat_minor": 1
}
